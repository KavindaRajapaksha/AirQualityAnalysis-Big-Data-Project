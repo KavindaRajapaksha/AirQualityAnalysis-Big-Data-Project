{
 "cells": [
  {
   "cell_type": "code",
   "execution_count": null,
   "id": "8b810912",
   "metadata": {},
   "outputs": [],
   "source": [
    "input_file='output_aqi_bucket.txt'\n",
    "output_file='output_aqi_bucket_with_commas.txt'\n",
    "\n",
    "with open(input_file, 'r') as infile, open(output_file, 'w') as outfile:\n",
    "    for line in infile:\n",
    "        \n",
    "        new_line = line.replace('\\t', ',')\n",
    "        outfile.write(new_line)"
   ]
  },
  {
   "cell_type": "code",
   "execution_count": 2,
   "id": "aa9c49e0",
   "metadata": {},
   "outputs": [],
   "source": [
    "input_file='output_avg_pm25.txt'\n",
    "output_file='Output_avg_pm25_with_commas.txt'\n",
    "\n",
    "with open(input_file, 'r') as infile, open(output_file, 'w') as outfile:\n",
    "    for line in infile:\n",
    "        \n",
    "        new_line = line.replace('\\t', ',')\n",
    "        outfile.write(new_line)"
   ]
  }
 ],
 "metadata": {
  "kernelspec": {
   "display_name": "base",
   "language": "python",
   "name": "python3"
  },
  "language_info": {
   "codemirror_mode": {
    "name": "ipython",
    "version": 3
   },
   "file_extension": ".py",
   "mimetype": "text/x-python",
   "name": "python",
   "nbconvert_exporter": "python",
   "pygments_lexer": "ipython3",
   "version": "3.12.7"
  }
 },
 "nbformat": 4,
 "nbformat_minor": 5
}
